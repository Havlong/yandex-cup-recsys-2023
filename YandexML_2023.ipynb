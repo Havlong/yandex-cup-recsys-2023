{
 "cells": [
  {
   "cell_type": "markdown",
   "id": "cce9b28c-2c6b-4448-9fa4-b223ccf56ed6",
   "metadata": {},
   "source": [
    "# Yandex Cup ML Challenge 2023: RecSys\n",
    "\n",
    "[Ссылка на контест](https://contest.yandex.ru/contest/54251/problems/)\n",
    "\n",
    "## A. В поисках реальности\n",
    "\n",
    "### Формат ввода\n",
    "Данные можно скачать по ссылкам:\n",
    "- https://disk.yandex.ru/d/Q9gnaU4HvL5nyQ — данные для обучения; \n",
    "- https://disk.yandex.ru/d/_fitwckjDkCIPA — архив с ембедингами треков.\n",
    "\n",
    "Также данные доступны на Kaggle: https://www.kaggle.com/datasets/sharthz23/yandex-cup-2023-recsys\n",
    "\n",
    "В первом архиве `data.tar.gz` 4 файла:\n",
    "\n",
    "- `train.csv` — содержит трек ид и список тегов в через запятую, всего тегов 256;\n",
    "- `test.tsv` — такой же формат но без списка тегов;\n",
    "- `Baseline.ipynb` — пример ноутбука с наивной моделью;\n",
    "- `sample_submission.csv` — пример решения.\n",
    "\n",
    "Во втором архиве `track_embeddings.tar.gz` содержатся файлы с ембедингами треков. `dtype = np.float32` читать можно через `numpy.load`. Размерность ембедингов 768. Каждый файл содержит в названии ид соответствующего трека.\n",
    "\n",
    "### Формат вывода\n",
    "В качестве решения необходимо отправить файл в формате `csv` с двумя колонками `track` и `prediction` для каждого трека из `test.csv` в том же порядке. В колонке `prediction` нужно записать вероятности тегов через запятую в виде строки.\n",
    "\n",
    "### Примечания\n",
    "В качестве метрики используется [Average precision](https://scikit-learn.org/stable/modules/generated/sklearn.metrics.average_precision_score.html). Ограничение на загружаемый файл - 250мб. Предупреждаем, что решение может долго загружаться.\n"
   ]
  },
  {
   "cell_type": "markdown",
   "id": "bfb91035-a58f-4d6c-9efd-7fc6ed313613",
   "metadata": {},
   "source": [
    "## Подготовка\n",
    "\n",
    "При локальном запуске измените пути до файлов в следующей ячейке с кодом"
   ]
  },
  {
   "cell_type": "code",
   "execution_count": 1,
   "id": "739bd512-61cf-400c-b270-a583d52cb300",
   "metadata": {},
   "outputs": [],
   "source": [
    "import warnings\n",
    "warnings.simplefilter(action='ignore', category=FutureWarning)\n",
    "%matplotlib inline\n",
    "\n",
    "import os\n",
    "import numpy as np\n",
    "import pandas as pd\n",
    "\n",
    "import seaborn as sns\n",
    "import matplotlib.pyplot as plt\n",
    "sns.set()\n",
    "\n",
    "train_data = 'train.csv'\n",
    "test_data = 'test.csv'\n",
    "sample = 'sample_submission.csv'\n",
    "\n",
    "# Hide GPU from TensorFlow\n",
    "# os.environ[\"CUDA_VISIBLE_DEVICES\"] = \"-1\"\n",
    "\n",
    "embeddings_path = os.path.join('/tf','shared_data','embeddings') + os.path.sep\n",
    "n_tags = 256"
   ]
  },
  {
   "cell_type": "code",
   "execution_count": 2,
   "id": "7fc5517a-7a5e-462f-ac59-0c1fef8fbcc1",
   "metadata": {},
   "outputs": [
    {
     "data": {
      "text/html": [
       "<div>\n",
       "<style scoped>\n",
       "    .dataframe tbody tr th:only-of-type {\n",
       "        vertical-align: middle;\n",
       "    }\n",
       "\n",
       "    .dataframe tbody tr th {\n",
       "        vertical-align: top;\n",
       "    }\n",
       "\n",
       "    .dataframe thead th {\n",
       "        text-align: right;\n",
       "    }\n",
       "</style>\n",
       "<table border=\"1\" class=\"dataframe\">\n",
       "  <thead>\n",
       "    <tr style=\"text-align: right;\">\n",
       "      <th></th>\n",
       "      <th>track</th>\n",
       "      <th>tags</th>\n",
       "    </tr>\n",
       "  </thead>\n",
       "  <tbody>\n",
       "    <tr>\n",
       "      <th>0</th>\n",
       "      <td>49734</td>\n",
       "      <td>5,6,9,26,32,55,96</td>\n",
       "    </tr>\n",
       "    <tr>\n",
       "      <th>1</th>\n",
       "      <td>67845</td>\n",
       "      <td>6,9,28,39,145,155</td>\n",
       "    </tr>\n",
       "    <tr>\n",
       "      <th>2</th>\n",
       "      <td>25302</td>\n",
       "      <td>0,6,28,40,116,168</td>\n",
       "    </tr>\n",
       "    <tr>\n",
       "      <th>3</th>\n",
       "      <td>57796</td>\n",
       "      <td>28,186</td>\n",
       "    </tr>\n",
       "    <tr>\n",
       "      <th>4</th>\n",
       "      <td>13676</td>\n",
       "      <td>6,23,177</td>\n",
       "    </tr>\n",
       "    <tr>\n",
       "      <th>...</th>\n",
       "      <td>...</td>\n",
       "      <td>...</td>\n",
       "    </tr>\n",
       "    <tr>\n",
       "      <th>51129</th>\n",
       "      <td>1858</td>\n",
       "      <td>1,11,12,15,37,74,245</td>\n",
       "    </tr>\n",
       "    <tr>\n",
       "      <th>51130</th>\n",
       "      <td>53319</td>\n",
       "      <td>1,23,35,131,180,244</td>\n",
       "    </tr>\n",
       "    <tr>\n",
       "      <th>51131</th>\n",
       "      <td>52102</td>\n",
       "      <td>5,23,89,127</td>\n",
       "    </tr>\n",
       "    <tr>\n",
       "      <th>51132</th>\n",
       "      <td>66401</td>\n",
       "      <td>0,111,235</td>\n",
       "    </tr>\n",
       "    <tr>\n",
       "      <th>51133</th>\n",
       "      <td>39253</td>\n",
       "      <td>5,68,102,118,127</td>\n",
       "    </tr>\n",
       "  </tbody>\n",
       "</table>\n",
       "<p>51134 rows × 2 columns</p>\n",
       "</div>"
      ],
      "text/plain": [
       "       track                  tags\n",
       "0      49734     5,6,9,26,32,55,96\n",
       "1      67845     6,9,28,39,145,155\n",
       "2      25302     0,6,28,40,116,168\n",
       "3      57796                28,186\n",
       "4      13676              6,23,177\n",
       "...      ...                   ...\n",
       "51129   1858  1,11,12,15,37,74,245\n",
       "51130  53319   1,23,35,131,180,244\n",
       "51131  52102           5,23,89,127\n",
       "51132  66401             0,111,235\n",
       "51133  39253      5,68,102,118,127\n",
       "\n",
       "[51134 rows x 2 columns]"
      ]
     },
     "execution_count": 2,
     "metadata": {},
     "output_type": "execute_result"
    }
   ],
   "source": [
    "train_csv = pd.read_csv(train_data)\n",
    "test_csv = pd.read_csv(test_data)\n",
    "train_csv"
   ]
  },
  {
   "cell_type": "code",
   "execution_count": 3,
   "id": "1067ed27-ed3c-4edd-b5b7-ec1cf5197581",
   "metadata": {},
   "outputs": [
    {
     "data": {
      "text/html": [
       "<div>\n",
       "<style scoped>\n",
       "    .dataframe tbody tr th:only-of-type {\n",
       "        vertical-align: middle;\n",
       "    }\n",
       "\n",
       "    .dataframe tbody tr th {\n",
       "        vertical-align: top;\n",
       "    }\n",
       "\n",
       "    .dataframe thead th {\n",
       "        text-align: right;\n",
       "    }\n",
       "</style>\n",
       "<table border=\"1\" class=\"dataframe\">\n",
       "  <thead>\n",
       "    <tr style=\"text-align: right;\">\n",
       "      <th></th>\n",
       "      <th>track</th>\n",
       "      <th>0</th>\n",
       "      <th>1</th>\n",
       "      <th>2</th>\n",
       "      <th>3</th>\n",
       "      <th>4</th>\n",
       "      <th>5</th>\n",
       "      <th>6</th>\n",
       "      <th>7</th>\n",
       "      <th>8</th>\n",
       "      <th>...</th>\n",
       "      <th>246</th>\n",
       "      <th>247</th>\n",
       "      <th>248</th>\n",
       "      <th>249</th>\n",
       "      <th>250</th>\n",
       "      <th>251</th>\n",
       "      <th>252</th>\n",
       "      <th>253</th>\n",
       "      <th>254</th>\n",
       "      <th>255</th>\n",
       "    </tr>\n",
       "  </thead>\n",
       "  <tbody>\n",
       "    <tr>\n",
       "      <th>0</th>\n",
       "      <td>49734</td>\n",
       "      <td>False</td>\n",
       "      <td>False</td>\n",
       "      <td>False</td>\n",
       "      <td>False</td>\n",
       "      <td>False</td>\n",
       "      <td>True</td>\n",
       "      <td>True</td>\n",
       "      <td>False</td>\n",
       "      <td>False</td>\n",
       "      <td>...</td>\n",
       "      <td>False</td>\n",
       "      <td>False</td>\n",
       "      <td>False</td>\n",
       "      <td>False</td>\n",
       "      <td>False</td>\n",
       "      <td>False</td>\n",
       "      <td>False</td>\n",
       "      <td>False</td>\n",
       "      <td>False</td>\n",
       "      <td>False</td>\n",
       "    </tr>\n",
       "    <tr>\n",
       "      <th>1</th>\n",
       "      <td>67845</td>\n",
       "      <td>False</td>\n",
       "      <td>False</td>\n",
       "      <td>False</td>\n",
       "      <td>False</td>\n",
       "      <td>False</td>\n",
       "      <td>False</td>\n",
       "      <td>True</td>\n",
       "      <td>False</td>\n",
       "      <td>False</td>\n",
       "      <td>...</td>\n",
       "      <td>False</td>\n",
       "      <td>False</td>\n",
       "      <td>False</td>\n",
       "      <td>False</td>\n",
       "      <td>False</td>\n",
       "      <td>False</td>\n",
       "      <td>False</td>\n",
       "      <td>False</td>\n",
       "      <td>False</td>\n",
       "      <td>False</td>\n",
       "    </tr>\n",
       "    <tr>\n",
       "      <th>2</th>\n",
       "      <td>25302</td>\n",
       "      <td>True</td>\n",
       "      <td>False</td>\n",
       "      <td>False</td>\n",
       "      <td>False</td>\n",
       "      <td>False</td>\n",
       "      <td>False</td>\n",
       "      <td>True</td>\n",
       "      <td>False</td>\n",
       "      <td>False</td>\n",
       "      <td>...</td>\n",
       "      <td>False</td>\n",
       "      <td>False</td>\n",
       "      <td>False</td>\n",
       "      <td>False</td>\n",
       "      <td>False</td>\n",
       "      <td>False</td>\n",
       "      <td>False</td>\n",
       "      <td>False</td>\n",
       "      <td>False</td>\n",
       "      <td>False</td>\n",
       "    </tr>\n",
       "    <tr>\n",
       "      <th>3</th>\n",
       "      <td>57796</td>\n",
       "      <td>False</td>\n",
       "      <td>False</td>\n",
       "      <td>False</td>\n",
       "      <td>False</td>\n",
       "      <td>False</td>\n",
       "      <td>False</td>\n",
       "      <td>False</td>\n",
       "      <td>False</td>\n",
       "      <td>False</td>\n",
       "      <td>...</td>\n",
       "      <td>False</td>\n",
       "      <td>False</td>\n",
       "      <td>False</td>\n",
       "      <td>False</td>\n",
       "      <td>False</td>\n",
       "      <td>False</td>\n",
       "      <td>False</td>\n",
       "      <td>False</td>\n",
       "      <td>False</td>\n",
       "      <td>False</td>\n",
       "    </tr>\n",
       "    <tr>\n",
       "      <th>4</th>\n",
       "      <td>13676</td>\n",
       "      <td>False</td>\n",
       "      <td>False</td>\n",
       "      <td>False</td>\n",
       "      <td>False</td>\n",
       "      <td>False</td>\n",
       "      <td>False</td>\n",
       "      <td>True</td>\n",
       "      <td>False</td>\n",
       "      <td>False</td>\n",
       "      <td>...</td>\n",
       "      <td>False</td>\n",
       "      <td>False</td>\n",
       "      <td>False</td>\n",
       "      <td>False</td>\n",
       "      <td>False</td>\n",
       "      <td>False</td>\n",
       "      <td>False</td>\n",
       "      <td>False</td>\n",
       "      <td>False</td>\n",
       "      <td>False</td>\n",
       "    </tr>\n",
       "    <tr>\n",
       "      <th>...</th>\n",
       "      <td>...</td>\n",
       "      <td>...</td>\n",
       "      <td>...</td>\n",
       "      <td>...</td>\n",
       "      <td>...</td>\n",
       "      <td>...</td>\n",
       "      <td>...</td>\n",
       "      <td>...</td>\n",
       "      <td>...</td>\n",
       "      <td>...</td>\n",
       "      <td>...</td>\n",
       "      <td>...</td>\n",
       "      <td>...</td>\n",
       "      <td>...</td>\n",
       "      <td>...</td>\n",
       "      <td>...</td>\n",
       "      <td>...</td>\n",
       "      <td>...</td>\n",
       "      <td>...</td>\n",
       "      <td>...</td>\n",
       "      <td>...</td>\n",
       "    </tr>\n",
       "    <tr>\n",
       "      <th>51129</th>\n",
       "      <td>1858</td>\n",
       "      <td>False</td>\n",
       "      <td>True</td>\n",
       "      <td>False</td>\n",
       "      <td>False</td>\n",
       "      <td>False</td>\n",
       "      <td>False</td>\n",
       "      <td>False</td>\n",
       "      <td>False</td>\n",
       "      <td>False</td>\n",
       "      <td>...</td>\n",
       "      <td>False</td>\n",
       "      <td>False</td>\n",
       "      <td>False</td>\n",
       "      <td>False</td>\n",
       "      <td>False</td>\n",
       "      <td>False</td>\n",
       "      <td>False</td>\n",
       "      <td>False</td>\n",
       "      <td>False</td>\n",
       "      <td>False</td>\n",
       "    </tr>\n",
       "    <tr>\n",
       "      <th>51130</th>\n",
       "      <td>53319</td>\n",
       "      <td>False</td>\n",
       "      <td>True</td>\n",
       "      <td>False</td>\n",
       "      <td>False</td>\n",
       "      <td>False</td>\n",
       "      <td>False</td>\n",
       "      <td>False</td>\n",
       "      <td>False</td>\n",
       "      <td>False</td>\n",
       "      <td>...</td>\n",
       "      <td>False</td>\n",
       "      <td>False</td>\n",
       "      <td>False</td>\n",
       "      <td>False</td>\n",
       "      <td>False</td>\n",
       "      <td>False</td>\n",
       "      <td>False</td>\n",
       "      <td>False</td>\n",
       "      <td>False</td>\n",
       "      <td>False</td>\n",
       "    </tr>\n",
       "    <tr>\n",
       "      <th>51131</th>\n",
       "      <td>52102</td>\n",
       "      <td>False</td>\n",
       "      <td>False</td>\n",
       "      <td>False</td>\n",
       "      <td>False</td>\n",
       "      <td>False</td>\n",
       "      <td>True</td>\n",
       "      <td>False</td>\n",
       "      <td>False</td>\n",
       "      <td>False</td>\n",
       "      <td>...</td>\n",
       "      <td>False</td>\n",
       "      <td>False</td>\n",
       "      <td>False</td>\n",
       "      <td>False</td>\n",
       "      <td>False</td>\n",
       "      <td>False</td>\n",
       "      <td>False</td>\n",
       "      <td>False</td>\n",
       "      <td>False</td>\n",
       "      <td>False</td>\n",
       "    </tr>\n",
       "    <tr>\n",
       "      <th>51132</th>\n",
       "      <td>66401</td>\n",
       "      <td>True</td>\n",
       "      <td>False</td>\n",
       "      <td>False</td>\n",
       "      <td>False</td>\n",
       "      <td>False</td>\n",
       "      <td>False</td>\n",
       "      <td>False</td>\n",
       "      <td>False</td>\n",
       "      <td>False</td>\n",
       "      <td>...</td>\n",
       "      <td>False</td>\n",
       "      <td>False</td>\n",
       "      <td>False</td>\n",
       "      <td>False</td>\n",
       "      <td>False</td>\n",
       "      <td>False</td>\n",
       "      <td>False</td>\n",
       "      <td>False</td>\n",
       "      <td>False</td>\n",
       "      <td>False</td>\n",
       "    </tr>\n",
       "    <tr>\n",
       "      <th>51133</th>\n",
       "      <td>39253</td>\n",
       "      <td>False</td>\n",
       "      <td>False</td>\n",
       "      <td>False</td>\n",
       "      <td>False</td>\n",
       "      <td>False</td>\n",
       "      <td>True</td>\n",
       "      <td>False</td>\n",
       "      <td>False</td>\n",
       "      <td>False</td>\n",
       "      <td>...</td>\n",
       "      <td>False</td>\n",
       "      <td>False</td>\n",
       "      <td>False</td>\n",
       "      <td>False</td>\n",
       "      <td>False</td>\n",
       "      <td>False</td>\n",
       "      <td>False</td>\n",
       "      <td>False</td>\n",
       "      <td>False</td>\n",
       "      <td>False</td>\n",
       "    </tr>\n",
       "  </tbody>\n",
       "</table>\n",
       "<p>51134 rows × 257 columns</p>\n",
       "</div>"
      ],
      "text/plain": [
       "       track      0      1      2      3      4      5      6      7      8  \\\n",
       "0      49734  False  False  False  False  False   True   True  False  False   \n",
       "1      67845  False  False  False  False  False  False   True  False  False   \n",
       "2      25302   True  False  False  False  False  False   True  False  False   \n",
       "3      57796  False  False  False  False  False  False  False  False  False   \n",
       "4      13676  False  False  False  False  False  False   True  False  False   \n",
       "...      ...    ...    ...    ...    ...    ...    ...    ...    ...    ...   \n",
       "51129   1858  False   True  False  False  False  False  False  False  False   \n",
       "51130  53319  False   True  False  False  False  False  False  False  False   \n",
       "51131  52102  False  False  False  False  False   True  False  False  False   \n",
       "51132  66401   True  False  False  False  False  False  False  False  False   \n",
       "51133  39253  False  False  False  False  False   True  False  False  False   \n",
       "\n",
       "       ...    246    247    248    249    250    251    252    253    254  \\\n",
       "0      ...  False  False  False  False  False  False  False  False  False   \n",
       "1      ...  False  False  False  False  False  False  False  False  False   \n",
       "2      ...  False  False  False  False  False  False  False  False  False   \n",
       "3      ...  False  False  False  False  False  False  False  False  False   \n",
       "4      ...  False  False  False  False  False  False  False  False  False   \n",
       "...    ...    ...    ...    ...    ...    ...    ...    ...    ...    ...   \n",
       "51129  ...  False  False  False  False  False  False  False  False  False   \n",
       "51130  ...  False  False  False  False  False  False  False  False  False   \n",
       "51131  ...  False  False  False  False  False  False  False  False  False   \n",
       "51132  ...  False  False  False  False  False  False  False  False  False   \n",
       "51133  ...  False  False  False  False  False  False  False  False  False   \n",
       "\n",
       "         255  \n",
       "0      False  \n",
       "1      False  \n",
       "2      False  \n",
       "3      False  \n",
       "4      False  \n",
       "...      ...  \n",
       "51129  False  \n",
       "51130  False  \n",
       "51131  False  \n",
       "51132  False  \n",
       "51133  False  \n",
       "\n",
       "[51134 rows x 257 columns]"
      ]
     },
     "execution_count": 3,
     "metadata": {},
     "output_type": "execute_result"
    }
   ],
   "source": [
    "def one_hot(tags):\n",
    "    vector = np.zeros(n_tags, dtype='bool')\n",
    "    vector[[int(i) for i in tags.split(',')]] = 1\n",
    "    return vector\n",
    "\n",
    "train_tags = pd.DataFrame(train_csv['tags'].apply(one_hot).tolist())\n",
    "train_csv = pd.concat([train_csv, train_tags], axis=1).drop('tags', axis=1)\n",
    "train_csv"
   ]
  },
  {
   "cell_type": "code",
   "execution_count": 4,
   "id": "cfa83218-60c9-434a-97ec-362b11fa815b",
   "metadata": {},
   "outputs": [
    {
     "data": {
      "text/plain": [
       "(76714, 76714)"
      ]
     },
     "execution_count": 4,
     "metadata": {},
     "output_type": "execute_result"
    }
   ],
   "source": [
    "from glob import glob\n",
    "\n",
    "cnt_ids = len(test_csv.index) + len(train_csv.index)\n",
    "cnt_ids, len(glob(embeddings_path + '*'))"
   ]
  },
  {
   "cell_type": "code",
   "execution_count": 5,
   "id": "0b2a8836-a146-4020-82eb-49e4af450207",
   "metadata": {},
   "outputs": [
    {
     "data": {
      "text/plain": [
       "True"
      ]
     },
     "execution_count": 5,
     "metadata": {},
     "output_type": "execute_result"
    }
   ],
   "source": [
    "from re import fullmatch\n",
    "\n",
    "is_present = np.full(cnt_ids, False, 'bool')\n",
    "regex = embeddings_path + r'(\\d{,5}).npy'\n",
    "\n",
    "for file in glob(embeddings_path + '*'):\n",
    "    part = fullmatch(regex, file)\n",
    "    if not part:\n",
    "        print(file)\n",
    "        continue\n",
    "    is_present[int(part[1])] = True\n",
    "\n",
    "np.alltrue(is_present)"
   ]
  },
  {
   "cell_type": "code",
   "execution_count": 6,
   "id": "3d4df6f5-fe94-46f6-9a6e-242e8f05edf7",
   "metadata": {},
   "outputs": [
    {
     "data": {
      "text/plain": [
       "((131, 768), dtype('float32'))"
      ]
     },
     "execution_count": 6,
     "metadata": {},
     "output_type": "execute_result"
    }
   ],
   "source": [
    "embeddings0 = np.load(embeddings_path + '0.npy')\n",
    "embeddings0.shape, embeddings0.dtype"
   ]
  },
  {
   "cell_type": "code",
   "execution_count": 7,
   "id": "0b7c2684-0b89-484b-92a8-af862e9ec3ce",
   "metadata": {},
   "outputs": [],
   "source": [
    "dims = np.zeros(cnt_ids, 'int32')\n",
    "\n",
    "for i in range(cnt_ids):\n",
    "    path = embeddings_path + str(i) + '.npy'\n",
    "    emb = np.load(path)\n",
    "    assert(emb.ndim == 2 and emb.shape[1] == 768)\n",
    "    dims[i] = emb.shape[0]"
   ]
  },
  {
   "cell_type": "code",
   "execution_count": 8,
   "id": "61f620c0-e2d7-4542-bc29-91a508413210",
   "metadata": {},
   "outputs": [
    {
     "data": {
      "text/plain": [
       "(10, 404)"
      ]
     },
     "execution_count": 8,
     "metadata": {},
     "output_type": "execute_result"
    },
    {
     "data": {
      "image/png": "[encoded data removed]",
      "text/plain": [
       "<Figure size 640x480 with 1 Axes>"
      ]
     },
     "metadata": {},
     "output_type": "display_data"
    }
   ],
   "source": [
    "sns.histplot(dims)\n",
    "np.min(dims), np.max(dims)"
   ]
  },
  {
   "cell_type": "code",
   "execution_count": 9,
   "id": "df0640cc-2720-4489-b106-9e248fcf1cff",
   "metadata": {},
   "outputs": [
    {
     "data": {
      "text/plain": [
       "(58.04167427066768, 26.334504678369505)"
      ]
     },
     "execution_count": 9,
     "metadata": {},
     "output_type": "execute_result"
    }
   ],
   "source": [
    "np.mean(dims), np.std(dims)"
   ]
  },
  {
   "cell_type": "code",
   "execution_count": 10,
   "id": "2eeeb615-86da-47e5-87ef-56809e5e02d4",
   "metadata": {},
   "outputs": [
    {
     "name": "stdout",
     "output_type": "stream",
     "text": [
      "Total embeddings memory is 12.75 GiB\n"
     ]
    }
   ],
   "source": [
    "bytes = 0\n",
    "\n",
    "for file in os.listdir(embeddings_path):\n",
    "    bytes += os.path.getsize(os.path.join(embeddings_path, file))\n",
    "\n",
    "print('Total embeddings memory is {:.2f} GiB'.format(bytes / (1 << 30)))"
   ]
  },
  {
   "cell_type": "markdown",
   "id": "f30feab5-8f0d-44d2-8fc0-c7488d651d12",
   "metadata": {},
   "source": [
    "## Достаем серьезные игрушки"
   ]
  },
  {
   "cell_type": "code",
   "execution_count": 11,
   "id": "c95a9cc8-e110-480d-935a-c819a29d4385",
   "metadata": {},
   "outputs": [
    {
     "name": "stderr",
     "output_type": "stream",
     "text": [
      "2023-10-26 21:50:42.540699: E tensorflow/compiler/xla/stream_executor/cuda/cuda_dnn.cc:9342] Unable to register cuDNN factory: Attempting to register factory for plugin cuDNN when one has already been registered\n",
      "2023-10-26 21:50:42.540722: E tensorflow/compiler/xla/stream_executor/cuda/cuda_fft.cc:609] Unable to register cuFFT factory: Attempting to register factory for plugin cuFFT when one has already been registered\n",
      "2023-10-26 21:50:42.540740: E tensorflow/compiler/xla/stream_executor/cuda/cuda_blas.cc:1518] Unable to register cuBLAS factory: Attempting to register factory for plugin cuBLAS when one has already been registered\n",
      "2023-10-26 21:50:42.545182: I tensorflow/core/platform/cpu_feature_guard.cc:182] This TensorFlow binary is optimized to use available CPU instructions in performance-critical operations.\n",
      "To enable the following instructions: AVX2 FMA, in other operations, rebuild TensorFlow with the appropriate compiler flags.\n"
     ]
    }
   ],
   "source": [
    "import tensorflow as tf\n",
    "\n",
    "# tf.debugging.set_log_device_placement(True)"
   ]
  },
  {
   "cell_type": "code",
   "execution_count": 12,
   "id": "e20ba730-410e-4745-9116-5c4aa75963b5",
   "metadata": {},
   "outputs": [],
   "source": [
    "max_len = 150\n",
    "emb_len = 768\n",
    "\n",
    "def generate_train_data():\n",
    "    file_format = embeddings_path + '{}.npy'\n",
    "    labels = train_csv[[*range(n_tags)]].astype('float32')\n",
    "    \n",
    "    for (i, track) in train_csv.track.items():\n",
    "        inputs = np.zeros(shape=(max_len, emb_len), dtype='float32')\n",
    "        \n",
    "        track_path = file_format.format(track)\n",
    "        emb = np.load(track_path)\n",
    "        \n",
    "        ln = min(max_len, emb.shape[0])\n",
    "        inputs[-ln:, :] = emb[-ln:, :]\n",
    "        \n",
    "        yield (inputs, labels.iloc[i])"
   ]
  },
  {
   "cell_type": "code",
   "execution_count": 13,
   "id": "43d28cd1-abae-4035-b4b7-52c7d692d956",
   "metadata": {},
   "outputs": [],
   "source": [
    "def prep_tagged_data():\n",
    "    return tf.data.Dataset.from_generator(\n",
    "        generate_train_data, \n",
    "        output_signature=(\n",
    "            tf.TensorSpec(shape=(max_len, emb_len), dtype=tf.float32), \n",
    "            tf.TensorSpec(shape=(n_tags), dtype=tf.float32)\n",
    "        )\n",
    "    )"
   ]
  },
  {
   "cell_type": "code",
   "execution_count": 14,
   "id": "531ce49b-e994-4544-a21c-fa5926a4da3d",
   "metadata": {},
   "outputs": [],
   "source": [
    "def plot_train_losses(history):\n",
    "    plt.plot(history.epoch, history.history['binary_crossentropy'], label='BCE Train')\n",
    "    plt.plot(history.epoch, history.history['val_binary_crossentropy'], '--', label='BCE Validation')\n",
    "    # plt.plot(history.epoch, history.history['loss'], label='BCE+L2 Train')\n",
    "    # plt.plot(history.epoch, history.history['val_loss'], '--', label='BCE+L2 Validation')\n",
    "    plt.plot(history.epoch, history.history['prc'], label='AUC (PR) Train')\n",
    "    plt.plot(history.epoch, history.history['val_prc'], '--', label='AUC (PR) Validation')\n",
    "    \n",
    "    plt.xlabel('Epochs')\n",
    "    plt.ylabel('Losses')\n",
    "    plt.legend()"
   ]
  },
  {
   "cell_type": "markdown",
   "id": "aa1b7b7d-e3f3-434f-8238-d3d3b2094514",
   "metadata": {},
   "source": [
    "### TF Model Gallery\n",
    "\n",
    "- GRU-Unit Recurrent and Wide model\n",
    "- Deep Linear layers and Double-GRU layered model\n",
    "- same model with L2 regularization\n",
    "- Parallel MaskNet feature extraction feeding RNN\n"
   ]
  },
  {
   "cell_type": "code",
   "execution_count": 15,
   "id": "5ff0f294-5983-421d-98a1-aa89c7c65ea0",
   "metadata": {},
   "outputs": [],
   "source": [
    "from tensorflow.keras import Sequential, layers, regularizers\n",
    "\n",
    "\n",
    "def prep_rnn_model():\n",
    "    rnn_sz = 256\n",
    "    hidden_sz = 32 * n_tags\n",
    "    \n",
    "    rnn_model = Sequential()\n",
    "    rnn_model.add(layers.InputLayer(input_shape=(max_len, emb_len,)))\n",
    "\n",
    "    rnn_model.add(layers.LayerNormalization())\n",
    "    rnn_model.add(layers.GRU(rnn_sz))\n",
    "\n",
    "    # Council will decide your Fate\n",
    "    rnn_model.add(layers.Dense(hidden_sz, activation='relu'))\n",
    "    rnn_model.add(layers.Dropout(0.5))\n",
    "    \n",
    "    rnn_model.add(layers.Dense(n_tags))\n",
    "    \n",
    "    rnn_model.compile(\n",
    "        optimizer='adam', \n",
    "        loss=tf.keras.losses.BinaryCrossentropy(from_logits=True),\n",
    "        metrics=['binary_accuracy', \n",
    "                 tf.keras.metrics.BinaryCrossentropy(from_logits=True),\n",
    "                 tf.keras.metrics.AUC(name='prc', curve='PR')]\n",
    "    )\n",
    "    # Evaluation: tf.keras.activation.sigmoid(model(test_ds))\n",
    "    \n",
    "    return rnn_model"
   ]
  },
  {
   "cell_type": "code",
   "execution_count": 16,
   "id": "f8a18097-6984-417d-88f6-cfc0161f1b4f",
   "metadata": {},
   "outputs": [],
   "source": [
    "from tensorflow.keras import Sequential, layers, regularizers\n",
    "\n",
    "\n",
    "def prep_rnn_model_dense():\n",
    "    rnn_sz = 256\n",
    "    hidden_sz = 5 * n_tags\n",
    "    \n",
    "    rnn_model = Sequential()\n",
    "    rnn_model.add(layers.InputLayer(input_shape=(max_len, emb_len,)))\n",
    "\n",
    "    rnn_model.add(layers.LayerNormalization())\n",
    "    rnn_model.add(layers.Dense(emb_len, activation='relu'))\n",
    "    rnn_model.add(layers.Dense(emb_len // 2))\n",
    "\n",
    "    rnn_model.add(layers.LayerNormalization())\n",
    "    rnn_model.add(layers.GRU(rnn_sz, return_sequences=True))\n",
    "    rnn_model.add(layers.GRU(rnn_sz))\n",
    "\n",
    "    rnn_model.add(layers.Dense(hidden_sz, activation='relu'))\n",
    "    rnn_model.add(layers.Dropout(0.5))\n",
    "    \n",
    "    rnn_model.add(layers.Dense(n_tags))\n",
    "    \n",
    "    rnn_model.compile(\n",
    "        optimizer='adam', \n",
    "        loss=tf.keras.losses.BinaryCrossentropy(from_logits=True),\n",
    "        metrics=['binary_accuracy', \n",
    "                 tf.keras.metrics.BinaryCrossentropy(from_logits=True),\n",
    "                 tf.keras.metrics.AUC(name='prc', curve='PR')]\n",
    "    )\n",
    "    # Evaluation: tf.keras.activation.sigmoid(model(test_ds))\n",
    "    \n",
    "    return rnn_model"
   ]
  },
  {
   "cell_type": "code",
   "execution_count": 17,
   "id": "ec90efb7-2985-4c4c-87c8-0ef0ec42c3a3",
   "metadata": {},
   "outputs": [],
   "source": [
    "from tensorflow.keras import Sequential, layers\n",
    "\n",
    "\n",
    "class MaskBlock(layers.Layer):\n",
    "    def __init__(self, output_size, reduction_factor=1.0):\n",
    "        super().__init__()\n",
    "        self.input_norm = layers.LayerNormalization()\n",
    "        self.layer_norm = layers.LayerNormalization()\n",
    "        \n",
    "        self.reduction_factor = reduction_factor\n",
    "        self.output_size = output_size\n",
    "        self.mlp = layers.Dense(output_size)\n",
    "\n",
    "        \n",
    "\n",
    "    def build(self, input_shape):\n",
    "        mask_size = input_shape[-1]\n",
    "        units = int(mask_size * self.reduction_factor)\n",
    "\n",
    "        self.mask_layer = Sequential([\n",
    "            layers.Dense(units, activation='relu'),\n",
    "            layers.Dense(mask_size)\n",
    "        ])\n",
    "        \n",
    "\n",
    "    def call(self, inputs):\n",
    "        net = self.input_norm(inputs)\n",
    "        mask = self.mask_layer(inputs)\n",
    "\n",
    "        output = self.mlp(net * mask)\n",
    "        \n",
    "        return self.layer_norm(output)\n",
    "\n",
    "    def get_config(self):\n",
    "        return { \"reduction_factor\": self.reduction_factor, \"output_size\": self.output_size }\n",
    "\n",
    "\n",
    "def prep_mask_net():\n",
    "    rnn_sz = 512\n",
    "    hidden_sz = 32 * n_tags\n",
    "    mask_blocks = 5\n",
    "    \n",
    "    inputs = tf.keras.Input(shape=(max_len, emb_len,))\n",
    "\n",
    "    x = layers.concatenate([MaskBlock(emb_len)(inputs) for _ in range(mask_blocks)])\n",
    "\n",
    "    x = layers.GRU(rnn_sz, return_sequences=True)(x)\n",
    "    x = layers.GRU(rnn_sz)(x)\n",
    "\n",
    "    x = layers.LayerNormalization()(x)\n",
    "\n",
    "    x = layers.Dense(hidden_sz, activation='relu')(x)\n",
    "    outputs = layers.Dense(n_tags)(x)\n",
    "\n",
    "    masking_model = tf.keras.Model(inputs=inputs, outputs=outputs, name='MaskNet')\n",
    "\n",
    "    masking_model.compile(\n",
    "        optimizer='adam', \n",
    "        loss=tf.keras.losses.BinaryCrossentropy(from_logits=True),\n",
    "        metrics=['binary_accuracy', \n",
    "                 tf.keras.metrics.BinaryCrossentropy(from_logits=True),\n",
    "                 tf.keras.metrics.AUC(name='prc', curve='PR')]\n",
    "    )\n",
    "    # Evaluation: tf.keras.activation.sigmoid(model(test_ds))\n",
    "    \n",
    "    return masking_model"
   ]
  },
  {
   "cell_type": "code",
   "execution_count": 18,
   "id": "42d77694-6d44-49d7-8bc7-49f5eb8db4b7",
   "metadata": {},
   "outputs": [
    {
     "name": "stderr",
     "output_type": "stream",
     "text": [
      "2023-10-26 21:50:43.816063: I tensorflow/compiler/xla/stream_executor/cuda/cuda_gpu_executor.cc:894] successful NUMA node read from SysFS had negative value (-1), but there must be at least one NUMA node, so returning NUMA node zero. See more at https://github.com/torvalds/linux/blob/v6.0/Documentation/ABI/testing/sysfs-bus-pci#L344-L355\n",
      "2023-10-26 21:50:43.819149: I tensorflow/compiler/xla/stream_executor/cuda/cuda_gpu_executor.cc:894] successful NUMA node read from SysFS had negative value (-1), but there must be at least one NUMA node, so returning NUMA node zero. See more at https://github.com/torvalds/linux/blob/v6.0/Documentation/ABI/testing/sysfs-bus-pci#L344-L355\n",
      "2023-10-26 21:50:43.819278: I tensorflow/compiler/xla/stream_executor/cuda/cuda_gpu_executor.cc:894] successful NUMA node read from SysFS had negative value (-1), but there must be at least one NUMA node, so returning NUMA node zero. See more at https://github.com/torvalds/linux/blob/v6.0/Documentation/ABI/testing/sysfs-bus-pci#L344-L355\n",
      "2023-10-26 21:50:43.819697: I tensorflow/compiler/xla/stream_executor/cuda/cuda_gpu_executor.cc:894] successful NUMA node read from SysFS had negative value (-1), but there must be at least one NUMA node, so returning NUMA node zero. See more at https://github.com/torvalds/linux/blob/v6.0/Documentation/ABI/testing/sysfs-bus-pci#L344-L355\n",
      "2023-10-26 21:50:43.819806: I tensorflow/compiler/xla/stream_executor/cuda/cuda_gpu_executor.cc:894] successful NUMA node read from SysFS had negative value (-1), but there must be at least one NUMA node, so returning NUMA node zero. See more at https://github.com/torvalds/linux/blob/v6.0/Documentation/ABI/testing/sysfs-bus-pci#L344-L355\n",
      "2023-10-26 21:50:43.819907: I tensorflow/compiler/xla/stream_executor/cuda/cuda_gpu_executor.cc:894] successful NUMA node read from SysFS had negative value (-1), but there must be at least one NUMA node, so returning NUMA node zero. See more at https://github.com/torvalds/linux/blob/v6.0/Documentation/ABI/testing/sysfs-bus-pci#L344-L355\n",
      "2023-10-26 21:50:44.019403: I tensorflow/compiler/xla/stream_executor/cuda/cuda_gpu_executor.cc:894] successful NUMA node read from SysFS had negative value (-1), but there must be at least one NUMA node, so returning NUMA node zero. See more at https://github.com/torvalds/linux/blob/v6.0/Documentation/ABI/testing/sysfs-bus-pci#L344-L355\n",
      "2023-10-26 21:50:44.019528: I tensorflow/compiler/xla/stream_executor/cuda/cuda_gpu_executor.cc:894] successful NUMA node read from SysFS had negative value (-1), but there must be at least one NUMA node, so returning NUMA node zero. See more at https://github.com/torvalds/linux/blob/v6.0/Documentation/ABI/testing/sysfs-bus-pci#L344-L355\n",
      "2023-10-26 21:50:44.019627: I tensorflow/compiler/xla/stream_executor/cuda/cuda_gpu_executor.cc:894] successful NUMA node read from SysFS had negative value (-1), but there must be at least one NUMA node, so returning NUMA node zero. See more at https://github.com/torvalds/linux/blob/v6.0/Documentation/ABI/testing/sysfs-bus-pci#L344-L355\n",
      "2023-10-26 21:50:44.019752: I tensorflow/core/common_runtime/gpu/gpu_device.cc:1886] Created device /job:localhost/replica:0/task:0/device:GPU:0 with 4359 MB memory:  -> device: 0, name: NVIDIA GeForce GTX 1660 Ti, pci bus id: 0000:01:00.0, compute capability: 7.5\n"
     ]
    },
    {
     "name": "stdout",
     "output_type": "stream",
     "text": [
      "(None, 150, 768)\n",
      "Model: \"MaskNet\"\n",
      "__________________________________________________________________________________________________\n",
      " Layer (type)                Output Shape                 Param #   Connected to                  \n",
      "==================================================================================================\n",
      " input_1 (InputLayer)        [(None, 150, 768)]           0         []                            \n",
      "                                                                                                  \n",
      " mask_block (MaskBlock)      (None, 150, 768)             1774848   ['input_1[0][0]']             \n",
      "                                                                                                  \n",
      " mask_block_1 (MaskBlock)    (None, 150, 768)             1774848   ['input_1[0][0]']             \n",
      "                                                                                                  \n",
      " mask_block_2 (MaskBlock)    (None, 150, 768)             1774848   ['input_1[0][0]']             \n",
      "                                                                                                  \n",
      " mask_block_3 (MaskBlock)    (None, 150, 768)             1774848   ['input_1[0][0]']             \n",
      "                                                                                                  \n",
      " mask_block_4 (MaskBlock)    (None, 150, 768)             1774848   ['input_1[0][0]']             \n",
      "                                                                                                  \n",
      " concatenate (Concatenate)   (None, 150, 3840)            0         ['mask_block[0][0]',          \n",
      "                                                                     'mask_block_1[0][0]',        \n",
      "                                                                     'mask_block_2[0][0]',        \n",
      "                                                                     'mask_block_3[0][0]',        \n",
      "                                                                     'mask_block_4[0][0]']        \n",
      "                                                                                                  \n",
      " gru (GRU)                   (None, 150, 512)             6687744   ['concatenate[0][0]']         \n",
      "                                                                                                  \n",
      " gru_1 (GRU)                 (None, 512)                  1575936   ['gru[0][0]']                 \n",
      "                                                                                                  \n",
      " layer_normalization_10 (La  (None, 512)                  1024      ['gru_1[0][0]']               \n",
      " yerNormalization)                                                                                \n",
      "                                                                                                  \n",
      " dense_5 (Dense)             (None, 8192)                 4202496   ['layer_normalization_10[0][0]\n",
      "                                                                    ']                            \n",
      "                                                                                                  \n",
      " dense_6 (Dense)             (None, 256)                  2097408   ['dense_5[0][0]']             \n",
      "                                                                                                  \n",
      "==================================================================================================\n",
      "Total params: 23438848 (89.41 MB)\n",
      "Trainable params: 23438848 (89.41 MB)\n",
      "Non-trainable params: 0 (0.00 Byte)\n",
      "__________________________________________________________________________________________________\n"
     ]
    }
   ],
   "source": [
    "from tensorflow.keras.utils import plot_model\n",
    "\n",
    "model = prep_mask_net()\n",
    "plot_model(model, 'wider_masknet.png', show_shapes=True)\n",
    "\n",
    "print(model.input_shape)\n",
    "model.summary()"
   ]
  },
  {
   "cell_type": "code",
   "execution_count": 19,
   "id": "ee2cc5b2-9ef6-45a4-835d-f889bc29538d",
   "metadata": {},
   "outputs": [],
   "source": [
    "BATCH_SIZE = 32\n",
    "BUFFER_SIZE = 1000\n",
    "\n",
    "ds = prep_tagged_data()\n",
    "\n",
    "VAL_SIZE = len(train_csv.index) // 10\n",
    "train_ds = ds.skip(VAL_SIZE).shuffle(BUFFER_SIZE).batch(BATCH_SIZE).prefetch(tf.data.AUTOTUNE)\n",
    "val_ds = ds.take(VAL_SIZE).batch(BATCH_SIZE).prefetch(tf.data.AUTOTUNE)"
   ]
  },
  {
   "cell_type": "code",
   "execution_count": 20,
   "id": "ec215d6e-80dc-48c8-8d40-fce2617918e5",
   "metadata": {},
   "outputs": [],
   "source": [
    "from tensorflow.keras.callbacks import EarlyStopping, ModelCheckpoint, TensorBoard\n",
    "\n",
    "\n",
    "model_callbacks = [\n",
    "    EarlyStopping(patience=5),\n",
    "    TensorBoard(log_dir='dnn/logs'),\n",
    "    ModelCheckpoint('dnn/best', monitor='val_prc', save_best_only=True, mode='max')\n",
    "]"
   ]
  },
  {
   "cell_type": "code",
   "execution_count": 21,
   "id": "5bec2808-e594-4a57-8e7e-05286b6a6624",
   "metadata": {},
   "outputs": [
    {
     "name": "stderr",
     "output_type": "stream",
     "text": [
      "2023-10-26 21:50:54.188659: I tensorflow/compiler/xla/stream_executor/cuda/cuda_dnn.cc:442] Loaded cuDNN version 8600\n",
      "2023-10-26 21:50:55.216627: I tensorflow/compiler/xla/service/service.cc:168] XLA service 0x7fb78564bb80 initialized for platform CUDA (this does not guarantee that XLA will be used). Devices:\n",
      "2023-10-26 21:50:55.216646: I tensorflow/compiler/xla/service/service.cc:176]   StreamExecutor device (0): NVIDIA GeForce GTX 1660 Ti, Compute Capability 7.5\n",
      "2023-10-26 21:50:55.220108: I tensorflow/compiler/mlir/tensorflow/utils/dump_mlir_util.cc:269] disabling MLIR crash reproducer, set env var `MLIR_CRASH_REPRODUCER_DIRECTORY` to enable.\n",
      "2023-10-26 21:50:55.317008: I ./tensorflow/compiler/jit/device_compiler.h:186] Compiled cluster using XLA!  This line is logged at most once for the lifetime of the process.\n"
     ]
    },
    {
     "name": "stdout",
     "output_type": "stream",
     "text": [
      "   1439/Unknown - 285s 191ms/step - loss: 0.0589 - binary_accuracy: 0.9859 - binary_crossentropy: 0.0589 - prc: 0.1357"
     ]
    },
    {
     "name": "stderr",
     "output_type": "stream",
     "text": [
      "2023-10-26 21:55:46.360650: I tensorflow/core/framework/local_rendezvous.cc:421] Local rendezvous recv item cancelled. Key hash: 9434552737276029176\n"
     ]
    },
    {
     "name": "stdout",
     "output_type": "stream",
     "text": [
      "INFO:tensorflow:Assets written to: dnn/best/assets\n"
     ]
    },
    {
     "name": "stderr",
     "output_type": "stream",
     "text": [
      "INFO:tensorflow:Assets written to: dnn/best/assets\n"
     ]
    },
    {
     "name": "stdout",
     "output_type": "stream",
     "text": [
      "1439/1439 [==============================] - 309s 207ms/step - loss: 0.0589 - binary_accuracy: 0.9859 - binary_crossentropy: 0.0589 - prc: 0.1357 - val_loss: 0.0524 - val_binary_accuracy: 0.9865 - val_binary_crossentropy: 0.0524 - val_prc: 0.1798\n"
     ]
    }
   ],
   "source": [
    "hist = model.fit(train_ds, validation_data=val_ds, epochs=1, callbacks=model_callbacks)"
   ]
  },
  {
   "cell_type": "code",
   "execution_count": 22,
   "id": "80fb6c83-a7f0-400f-adbf-113e156f181c",
   "metadata": {},
   "outputs": [
    {
     "data": {
      "image/png": "[encoded data removed]",
      "text/plain": [
       "<Figure size 640x480 with 1 Axes>"
      ]
     },
     "metadata": {},
     "output_type": "display_data"
    }
   ],
   "source": [
    "plot_train_losses(hist)"
   ]
  },
  {
   "cell_type": "code",
   "execution_count": 23,
   "id": "99b78c03-e79a-47d1-9421-19dea0d2ffc6",
   "metadata": {},
   "outputs": [],
   "source": [
    "model = tf.keras.models.load_model('dnn/best')"
   ]
  },
  {
   "cell_type": "code",
   "execution_count": 24,
   "id": "07c77c7d-8b7b-4e6c-a228-1349b6469aff",
   "metadata": {},
   "outputs": [
    {
     "name": "stdout",
     "output_type": "stream",
     "text": [
      "800/800 [==============================] - 74s 92ms/step\n"
     ]
    },
    {
     "name": "stderr",
     "output_type": "stream",
     "text": [
      "2023-10-26 21:57:12.224396: W tensorflow/tsl/framework/cpu_allocator_impl.cc:83] Allocation of 26193920 exceeds 10% of free system memory.\n",
      "2023-10-26 21:57:12.306120: W tensorflow/tsl/framework/cpu_allocator_impl.cc:83] Allocation of 26193920 exceeds 10% of free system memory.\n",
      "2023-10-26 21:57:12.308828: W tensorflow/tsl/framework/cpu_allocator_impl.cc:83] Allocation of 157163520 exceeds 10% of free system memory.\n",
      "2023-10-26 21:57:13.806057: W tensorflow/tsl/framework/cpu_allocator_impl.cc:83] Allocation of 157163520 exceeds 10% of free system memory.\n"
     ]
    }
   ],
   "source": [
    "def generate_test_data():\n",
    "    file_format = embeddings_path + '{}.npy'\n",
    "    \n",
    "    for (i, track) in test_csv.track.items():\n",
    "        inputs = np.zeros(shape=(max_len, emb_len), dtype='float32')\n",
    "        \n",
    "        track_path = file_format.format(track)\n",
    "        emb = np.load(track_path)\n",
    "        \n",
    "        ln = min(max_len, emb.shape[0])\n",
    "        inputs[-ln:, :] = emb[-ln:, :]\n",
    "        \n",
    "        yield inputs\n",
    "\n",
    "def prep_test_data():\n",
    "    return tf.data.Dataset.from_generator(\n",
    "        generate_test_data, \n",
    "        output_signature=tf.TensorSpec(shape=(max_len, emb_len), dtype=tf.float32)\n",
    "    )\n",
    "\n",
    "test_ds = prep_test_data().batch(BATCH_SIZE).prefetch(tf.data.AUTOTUNE)\n",
    "test_outputs = tf.keras.activations.sigmoid(model.predict(test_ds))\n",
    "\n",
    "probs = tf.strings.as_string(test_outputs, precision=6)\n",
    "probs = tf.strings.join(tf.transpose(probs), ',')"
   ]
  },
  {
   "cell_type": "code",
   "execution_count": 25,
   "id": "4b111647-cb81-4870-a016-19588b0bf3f5",
   "metadata": {},
   "outputs": [
    {
     "data": {
      "text/html": [
       "<div>\n",
       "<style scoped>\n",
       "    .dataframe tbody tr th:only-of-type {\n",
       "        vertical-align: middle;\n",
       "    }\n",
       "\n",
       "    .dataframe tbody tr th {\n",
       "        vertical-align: top;\n",
       "    }\n",
       "\n",
       "    .dataframe thead th {\n",
       "        text-align: right;\n",
       "    }\n",
       "</style>\n",
       "<table border=\"1\" class=\"dataframe\">\n",
       "  <thead>\n",
       "    <tr style=\"text-align: right;\">\n",
       "      <th></th>\n",
       "      <th>track</th>\n",
       "      <th>prediction</th>\n",
       "    </tr>\n",
       "  </thead>\n",
       "  <tbody>\n",
       "    <tr>\n",
       "      <th>0</th>\n",
       "      <td>17730</td>\n",
       "      <td>0.114267,0.108182,0.074099,0.345046,0.014251,0...</td>\n",
       "    </tr>\n",
       "    <tr>\n",
       "      <th>1</th>\n",
       "      <td>32460</td>\n",
       "      <td>0.200583,0.287717,0.430132,0.201906,0.038965,0...</td>\n",
       "    </tr>\n",
       "    <tr>\n",
       "      <th>2</th>\n",
       "      <td>11288</td>\n",
       "      <td>0.064538,0.277490,0.196500,0.078998,0.005038,0...</td>\n",
       "    </tr>\n",
       "    <tr>\n",
       "      <th>3</th>\n",
       "      <td>18523</td>\n",
       "      <td>0.330332,0.223013,0.570433,0.103014,0.056870,0...</td>\n",
       "    </tr>\n",
       "    <tr>\n",
       "      <th>4</th>\n",
       "      <td>71342</td>\n",
       "      <td>0.032932,0.034009,0.047047,0.175852,0.001401,0...</td>\n",
       "    </tr>\n",
       "    <tr>\n",
       "      <th>...</th>\n",
       "      <td>...</td>\n",
       "      <td>...</td>\n",
       "    </tr>\n",
       "    <tr>\n",
       "      <th>25575</th>\n",
       "      <td>40192</td>\n",
       "      <td>0.053463,0.866453,0.340633,0.026912,0.009545,0...</td>\n",
       "    </tr>\n",
       "    <tr>\n",
       "      <th>25576</th>\n",
       "      <td>4481</td>\n",
       "      <td>0.849225,0.131959,0.127108,0.022253,0.152789,0...</td>\n",
       "    </tr>\n",
       "    <tr>\n",
       "      <th>25577</th>\n",
       "      <td>5257</td>\n",
       "      <td>0.056743,0.029834,0.032250,0.261479,0.003539,0...</td>\n",
       "    </tr>\n",
       "    <tr>\n",
       "      <th>25578</th>\n",
       "      <td>73095</td>\n",
       "      <td>0.996579,0.008217,0.003669,0.004409,0.037762,0...</td>\n",
       "    </tr>\n",
       "    <tr>\n",
       "      <th>25579</th>\n",
       "      <td>67472</td>\n",
       "      <td>0.057455,0.649454,0.684103,0.023931,0.009641,0...</td>\n",
       "    </tr>\n",
       "  </tbody>\n",
       "</table>\n",
       "<p>25580 rows × 2 columns</p>\n",
       "</div>"
      ],
      "text/plain": [
       "       track                                         prediction\n",
       "0      17730  0.114267,0.108182,0.074099,0.345046,0.014251,0...\n",
       "1      32460  0.200583,0.287717,0.430132,0.201906,0.038965,0...\n",
       "2      11288  0.064538,0.277490,0.196500,0.078998,0.005038,0...\n",
       "3      18523  0.330332,0.223013,0.570433,0.103014,0.056870,0...\n",
       "4      71342  0.032932,0.034009,0.047047,0.175852,0.001401,0...\n",
       "...      ...                                                ...\n",
       "25575  40192  0.053463,0.866453,0.340633,0.026912,0.009545,0...\n",
       "25576   4481  0.849225,0.131959,0.127108,0.022253,0.152789,0...\n",
       "25577   5257  0.056743,0.029834,0.032250,0.261479,0.003539,0...\n",
       "25578  73095  0.996579,0.008217,0.003669,0.004409,0.037762,0...\n",
       "25579  67472  0.057455,0.649454,0.684103,0.023931,0.009641,0...\n",
       "\n",
       "[25580 rows x 2 columns]"
      ]
     },
     "execution_count": 25,
     "metadata": {},
     "output_type": "execute_result"
    }
   ],
   "source": [
    "test_csv['prediction'] = probs.numpy()\n",
    "test_csv.prediction = test_csv.prediction.str.decode('utf-8')\n",
    "test_csv"
   ]
  },
  {
   "cell_type": "code",
   "execution_count": 26,
   "id": "d8167458-f808-4b75-bc1e-e341f49f11ec",
   "metadata": {},
   "outputs": [],
   "source": [
    "test_csv.to_csv('submission_masking.csv', index=False)"
   ]
  },
  {
   "cell_type": "markdown",
   "id": "acb85342-5a35-4ae7-8acb-02c66a6be859",
   "metadata": {
    "editable": true,
    "slideshow": {
     "slide_type": ""
    },
    "tags": []
   },
   "source": [
    "#### Simple RNN with wide MLP `0.1984652647678659`\n",
    "\n",
    "![GRU cells](wide_rnn.png)"
   ]
  },
  {
   "cell_type": "markdown",
   "id": "7d8e5ea8-878b-4320-a494-1675be59f58e",
   "metadata": {},
   "source": [
    "#### Stacked RNN with MLP feature extraction `0.20544854465898205`\n",
    "\n",
    "![dense feature extraction](feat_dense.png)"
   ]
  },
  {
   "cell_type": "markdown",
   "id": "18a32c17-ce8e-4dff-ac84-ad19d8475ba8",
   "metadata": {
    "jp-MarkdownHeadingCollapsed": true
   },
   "source": [
    "#### Parallel MaskNet `0.19802501373063325`\n",
    "\n",
    "![MaskNet for feature extraction](mask_net.png)"
   ]
  }
 ],
 "metadata": {
  "kernelspec": {
   "display_name": "Python 3 (ipykernel)",
   "language": "python",
   "name": "python3"
  },
  "language_info": {
   "codemirror_mode": {
    "name": "ipython",
    "version": 3
   },
   "file_extension": ".py",
   "mimetype": "text/x-python",
   "name": "python",
   "nbconvert_exporter": "python",
   "pygments_lexer": "ipython3",
   "version": "3.11.0rc1"
  }
 },
 "nbformat": 4,
 "nbformat_minor": 5
}
